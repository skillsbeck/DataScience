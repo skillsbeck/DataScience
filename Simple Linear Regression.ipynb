{
 "cells": [
  {
   "cell_type": "markdown",
   "metadata": {},
   "source": [
    "# Simple Linear Regression Template\n",
    "\n",
    "### Using sklearn to train the model"
   ]
  },
  {
   "cell_type": "code",
   "execution_count": 166,
   "metadata": {},
   "outputs": [],
   "source": [
    "import pandas as pd\n",
    "from sklearn.model_selection import train_test_split\n",
    "from sklearn.linear_model import LinearRegression\n",
    "import numpy as np\n",
    "import matplotlib.pyplot as plt\n",
    "from sklearn.metrics import r2_score\n"
   ]
  },
  {
   "cell_type": "markdown",
   "metadata": {},
   "source": [
    "#### Define dataset and x and y values"
   ]
  },
  {
   "cell_type": "code",
   "execution_count": 158,
   "metadata": {},
   "outputs": [],
   "source": [
    "def readfile():\n",
    "    dataset = pd.read_csv('C:/Users/SarahKillingbeck/Documents/PythonBasics/Machine Learning/machine learning/insurance.csv')\n",
    "    x= dataset.iloc[0:,0 ].values\n",
    "    y = dataset.iloc[0:,2]\n",
    "    \n",
    "    return x,y\n"
   ]
  },
  {
   "cell_type": "markdown",
   "metadata": {},
   "source": [
    "#### Split Data"
   ]
  },
  {
   "cell_type": "code",
   "execution_count": 160,
   "metadata": {},
   "outputs": [],
   "source": [
    "def split_data(x,y):\n",
    "    x_train, x_test, y_train, y_test = train_test_split(x,y,test_size=0.4, random_state=0)\n",
    "    return x_train, x_test, y_train, y_test"
   ]
  },
  {
   "cell_type": "markdown",
   "metadata": {},
   "source": [
    "#### Make training model"
   ]
  },
  {
   "cell_type": "code",
   "execution_count": 161,
   "metadata": {},
   "outputs": [],
   "source": [
    "def model_train(x_train, y_train,x_test,y_test):\n",
    "    x_train1 = np.reshape(x_train,(-1,1))\n",
    "    y_train1 = np.reshape(y_train,(-1,1))\n",
    "    \n",
    "    x_test1 = np.reshape(x_train,(-1,1))\n",
    "    y_test1 = np.reshape(y_train,(-1,1))\n",
    "    \n",
    "    lin_regressor = LinearRegression()\n",
    "    lin_regressor.fit(x_train1,y_train1)\n",
    "    \n",
    "    y_predict = lin_regressor.predict(x_test1)\n",
    "    \n",
    "    r_square =r2_score(y_test1,y_predict)\n",
    "    \n",
    "    Area = 37 #variable to predict, adjust to dataset\n",
    "    \n",
    "    tran_Area = np.reshape(Area,(1,1)) #reshape area variable to be 1 column and 1 row\n",
    "    \n",
    "    pred_price = lin_regressor.predict(tran_Area) #predicted price, change variable name based on dataset. Uses area varibale for prediction.\n",
    "    \n",
    "    return lin_regressor"
   ]
  },
  {
   "cell_type": "markdown",
   "metadata": {},
   "source": [
    "#### Visualize Results"
   ]
  },
  {
   "cell_type": "code",
   "execution_count": 162,
   "metadata": {},
   "outputs": [],
   "source": [
    "def visualize_result(x_train1, y_train1,x_test1,y_test1,lin_regressor):\n",
    "    plt.scatter(x_train1,y_train1,color='blue')\n",
    "    plt.plot(x_test1,y_predict)\n",
    "    plt.title('Area vs Price of the Land')\n",
    "    plt.ylabel()\n",
    "    plt.xlabel()\n",
    "    \n",
    "    plt.show()\n",
    "    "
   ]
  },
  {
   "cell_type": "markdown",
   "metadata": {},
   "source": [
    "#### Run function to run all code for the model"
   ]
  },
  {
   "cell_type": "code",
   "execution_count": 163,
   "metadata": {},
   "outputs": [],
   "source": [
    "def main():\n",
    "    x,y = readfile()\n",
    "    x_train,x_test,y_train,y_test = split_data(x,y)\n",
    "    regressor = model_train(x_train,y_train,x_test,y_test)\n",
    "    visualize_result(x_train,y_train,x_test,y_test,lin_regressor)"
   ]
  },
  {
   "cell_type": "code",
   "execution_count": null,
   "metadata": {},
   "outputs": [],
   "source": [
    "main()"
   ]
  },
  {
   "cell_type": "code",
   "execution_count": null,
   "metadata": {},
   "outputs": [],
   "source": []
  }
 ],
 "metadata": {
  "kernelspec": {
   "display_name": "Python 3",
   "language": "python",
   "name": "python3"
  },
  "language_info": {
   "codemirror_mode": {
    "name": "ipython",
    "version": 3
   },
   "file_extension": ".py",
   "mimetype": "text/x-python",
   "name": "python",
   "nbconvert_exporter": "python",
   "pygments_lexer": "ipython3",
   "version": "3.8.5"
  }
 },
 "nbformat": 4,
 "nbformat_minor": 4
}
